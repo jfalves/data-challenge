{
 "cells": [
  {
   "cell_type": "markdown",
   "id": "14368af5-71d7-4a8a-82e1-66138de3fe1e",
   "metadata": {},
   "source": [
    "# Candidate Python Challenge: Serverless Data Validation\n",
    "You are building a small part of a serverless system. In this system, each event comes in as a Python dictionary. These events represent user actions and are sent one by one to your function using AWS Lambda.\n",
    "\n",
    "Your job is to write a function that:\n",
    "\n",
    "* Check if an event contain all expected fields.\n",
    "* Check if a field is there but in the wrong data type.\n",
    "* Check if field values aren't None.\n",
    "* Check if `event_type` is one of the following values: login, logout, click, purchase. (In lowercase always!)\n",
    "\n",
    "\n",
    "## Expected Output\n",
    "\n",
    "```json\n",
    "{\n",
    "    \"user_id\": int,\n",
    "    \"event_type\": str('login'|'logout'|'click'|'purchase'),\n",
    "    \"timestamp\": str,\n",
    "    \"meta\": str\n",
    "}\n",
    "  \n",
    "```"
   ]
  },
  {
   "cell_type": "markdown",
   "id": "6775d41b-cd24-4a57-8544-e448eb2a0ca5",
   "metadata": {},
   "source": [
    "# Solution\n",
    "Implement the necessary validations to ensure all events are properly validated and conform to expected standards"
   ]
  },
  {
   "cell_type": "code",
   "execution_count": null,
   "id": "9c94db01-0270-4c5e-a909-02308d5a68fe",
   "metadata": {},
   "outputs": [],
   "source": [
    "def process_event(event: str) -> dict:\n",
    "    \"\"\"\n",
    "    Parses a JSON-formatted event string into a dictionary and validates its content.\n",
    "\n",
    "    Parameters:\n",
    "        event (str): A JSON string representing the event data.\n",
    "\n",
    "    Returns:\n",
    "        dict: A dictionary representation of the event if parsing and validation succeed.\n",
    "\n",
    "    Raises:\n",
    "        RuntimeError: If JSON parsing fails or any validation error occurs.\n",
    "    \"\"\"\n",
    "\n",
    "    try:\n",
    "        dict_event = json.loads(event)\n",
    "        \n",
    "        # Implement data validation logic\n",
    "        raise NotImplementedError(\"Validations not implemented\")\n",
    "        \n",
    "        return dict_event\n",
    "    except Exception as e:\n",
    "        raise RuntimeError(e)"
   ]
  },
  {
   "cell_type": "markdown",
   "id": "84c110c4-795c-4c9d-bd4d-1ab38bf28f73",
   "metadata": {},
   "source": [
    "# Testing the solution"
   ]
  },
  {
   "cell_type": "code",
   "execution_count": null,
   "id": "d774f4e5-5a04-449a-9fe4-2d5fac6214be",
   "metadata": {},
   "outputs": [],
   "source": [
    "import json\n",
    "import logging\n",
    "from datetime import datetime\n",
    "\n",
    "\n",
    "log = logging.getLogger(__name__)\n",
    "logging.basicConfig(level=logging.DEBUG)  \n",
    "log.setLevel(logging.DEBUG)\n",
    "\n",
    "\n",
    "def lambda_handler(event: str) -> dict:\n",
    "    \"\"\"\n",
    "    Simulates an AWS Lambda trigger.\n",
    "    \"\"\"\n",
    "    try:\n",
    "        processed_event = process_event(event)\n",
    "\n",
    "        return {\n",
    "            'statusCode': 200,\n",
    "            'body': processed_event\n",
    "        }\n",
    "    except Exception as e:\n",
    "        return {\n",
    "            'statusCode': 500,\n",
    "            'body': f'Failed to process file: {str(e)}'\n",
    "        }\n",
    "\n",
    "try:\n",
    "    with open(\"/tmp/sample.json\", \"r\") as f:\n",
    "        events = json.load(f)\n",
    "except Exception as e:\n",
    "    log.error(f\"Failed to load JSON input file: {e}\")\n",
    "\n",
    "# 4, 5, 6, 7, 8, 12, 14, 19 aren't valid\n",
    "for i, event in enumerate(events, start=1):\n",
    "    log.info(f\"Processing Event #{i}\")\n",
    "    response = lambda_handler(json.dumps(event))\n",
    "    \n",
    "    if response['statusCode'] == 200:\n",
    "        event = response['body']\n",
    "        schema = {'user_id': int, 'event_type': str, 'timestamp': str, 'meta': str}\n",
    "        event_type = set(['click','login','logout','purchase'])\n",
    "        \n",
    "        if not event.keys() == schema.keys():\n",
    "            log.info(f\"Response: {response['statusCode']} - Event doesn't match schema.\\n Event: {event}\")\n",
    "            \n",
    "        if not all(isinstance(event[field], datatype) for field, datatype in schema.items()):\n",
    "            log.info(f\"Response: {response['statusCode']} - Event doesn't match datatypes.\\n Event: {event}\")\n",
    "\n",
    "        if not event['event_type'] in event_type:\n",
    "            log.info(f\"Response: {response['statusCode']} - Event field event_type doesn't match values.\\n event: {event}\")\n",
    "    else:\n",
    "        log.info(f\"Response: {response['statusCode']} - {response['body']}\")\n"
   ]
  }
 ],
 "metadata": {
  "kernelspec": {
   "display_name": "Data Challenge Kernel",
   "language": "python",
   "name": "datachallengekernel"
  },
  "language_info": {
   "codemirror_mode": {
    "name": "ipython",
    "version": 3
   },
   "file_extension": ".py",
   "mimetype": "text/x-python",
   "name": "python",
   "nbconvert_exporter": "python",
   "pygments_lexer": "ipython3",
   "version": "3.9.13"
  }
 },
 "nbformat": 4,
 "nbformat_minor": 5
}
